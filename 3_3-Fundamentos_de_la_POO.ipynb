{
  "cells": [
    {
      "cell_type": "markdown",
      "metadata": {},
      "source": [
        "POO:\n",
        "\n",
        "Elemento principal: clase.\n",
        "Características: atributos.\n",
        "Funcionalidades: métodos."
      ]
    },
    {
      "cell_type": "code",
      "execution_count": 1,
      "metadata": {
        "id": "0a_mp-HD37Ab"
      },
      "outputs": [],
      "source": [
        "class Persona:\n",
        "    \"\"\"\n",
        "    Esta es una clase donde se agregan todos los datos\n",
        "    respecto a una persona\n",
        "    \"\"\"\n",
        "    def __init__(self, nombre, edad): # self hace referencia al objeto que estamos instanciando cuando invocamos a la clase.\n",
        "        # Todo lo que definamos en __init__ se corre al crear una instancia de la clase.\n",
        "        # init es el método constructor en Python y define los atributos que va a tener esta clase.\n",
        "        self.nombre = nombre # Atributos que se reciben como argumentos cuando se crea un objeto, una instancia, de la clase Persona.\n",
        "        self.edad = edad\n",
        "\n",
        "#El parámetro self se refiere al objeto instanciado de esa clase sobre el cual se está invocando dicho método.\n",
        "\n",
        "#Link de Interes: https://ejemplos.net/que-significa-self-en-python/"
      ]
    },
    {
      "cell_type": "code",
      "execution_count": 2,
      "metadata": {
        "colab": {
          "base_uri": "https://localhost:8080/"
        },
        "id": "RpZRH5HW4gtg",
        "outputId": "9a28954a-96f7-469f-c487-202677cfc1e1"
      },
      "outputs": [
        {
          "name": "stdout",
          "output_type": "stream",
          "text": [
            "Juan\n",
            "26\n"
          ]
        }
      ],
      "source": [
        "#Creamos un objeto p1 que es una instancia de la clase Persona\n",
        "p1 = Persona(\"Juan\", 26)\n",
        "\n",
        "print(p1.nombre) #Le pedimos a p1 su nombre\n",
        "print(p1.edad) #Le pedimos a p1 su edad"
      ]
    },
    {
      "cell_type": "code",
      "execution_count": 3,
      "metadata": {
        "colab": {
          "base_uri": "https://localhost:8080/"
        },
        "id": "Ko1Y5r-p4hW1",
        "outputId": "0004c95a-c8de-43d6-d795-9e931a6386b7"
      },
      "outputs": [
        {
          "data": {
            "text/plain": [
              "__main__.Persona"
            ]
          },
          "execution_count": 3,
          "metadata": {},
          "output_type": "execute_result"
        }
      ],
      "source": [
        "#Vemos el tipo de objeto que es p1\n",
        "type(p1)"
      ]
    }
  ],
  "metadata": {
    "colab": {
      "collapsed_sections": [],
      "name": "Clases en Python.ipynb",
      "provenance": []
    },
    "kernelspec": {
      "display_name": "Python 3",
      "name": "python3"
    },
    "language_info": {
      "codemirror_mode": {
        "name": "ipython",
        "version": 3
      },
      "file_extension": ".py",
      "mimetype": "text/x-python",
      "name": "python",
      "nbconvert_exporter": "python",
      "pygments_lexer": "ipython3",
      "version": "3.11.1"
    }
  },
  "nbformat": 4,
  "nbformat_minor": 0
}
